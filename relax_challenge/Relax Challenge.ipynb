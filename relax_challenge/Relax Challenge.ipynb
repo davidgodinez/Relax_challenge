{
 "cells": [
  {
   "cell_type": "code",
   "execution_count": 47,
   "metadata": {},
   "outputs": [],
   "source": [
    "import csv\n",
    "import numpy as np\n",
    "import pandas as pd\n",
    "import matplotlib.pyplot as plt\n",
    "import seaborn as sns"
   ]
  },
  {
   "cell_type": "markdown",
   "metadata": {},
   "source": [
    "# Exploring the Take Home Users Table"
   ]
  },
  {
   "cell_type": "code",
   "execution_count": 31,
   "metadata": {},
   "outputs": [],
   "source": [
    "takehome_users = pd.read_csv('takehome_users.csv', sep=',' , encoding='latin-1')"
   ]
  },
  {
   "cell_type": "code",
   "execution_count": 32,
   "metadata": {},
   "outputs": [
    {
     "data": {
      "text/html": [
       "<div>\n",
       "<style scoped>\n",
       "    .dataframe tbody tr th:only-of-type {\n",
       "        vertical-align: middle;\n",
       "    }\n",
       "\n",
       "    .dataframe tbody tr th {\n",
       "        vertical-align: top;\n",
       "    }\n",
       "\n",
       "    .dataframe thead th {\n",
       "        text-align: right;\n",
       "    }\n",
       "</style>\n",
       "<table border=\"1\" class=\"dataframe\">\n",
       "  <thead>\n",
       "    <tr style=\"text-align: right;\">\n",
       "      <th></th>\n",
       "      <th>object_id</th>\n",
       "      <th>creation_time</th>\n",
       "      <th>name</th>\n",
       "      <th>email</th>\n",
       "      <th>creation_source</th>\n",
       "      <th>last_session_creation_time</th>\n",
       "      <th>opted_in_to_mailing_list</th>\n",
       "      <th>enabled_for_marketing_drip</th>\n",
       "      <th>org_id</th>\n",
       "      <th>invited_by_user_id</th>\n",
       "    </tr>\n",
       "  </thead>\n",
       "  <tbody>\n",
       "    <tr>\n",
       "      <th>0</th>\n",
       "      <td>1</td>\n",
       "      <td>2014-04-22 03:53:30</td>\n",
       "      <td>Clausen August</td>\n",
       "      <td>AugustCClausen@yahoo.com</td>\n",
       "      <td>GUEST_INVITE</td>\n",
       "      <td>1.398139e+09</td>\n",
       "      <td>1</td>\n",
       "      <td>0</td>\n",
       "      <td>11</td>\n",
       "      <td>10803.0</td>\n",
       "    </tr>\n",
       "    <tr>\n",
       "      <th>1</th>\n",
       "      <td>2</td>\n",
       "      <td>2013-11-15 03:45:04</td>\n",
       "      <td>Poole Matthew</td>\n",
       "      <td>MatthewPoole@gustr.com</td>\n",
       "      <td>ORG_INVITE</td>\n",
       "      <td>1.396238e+09</td>\n",
       "      <td>0</td>\n",
       "      <td>0</td>\n",
       "      <td>1</td>\n",
       "      <td>316.0</td>\n",
       "    </tr>\n",
       "    <tr>\n",
       "      <th>2</th>\n",
       "      <td>3</td>\n",
       "      <td>2013-03-19 23:14:52</td>\n",
       "      <td>Bottrill Mitchell</td>\n",
       "      <td>MitchellBottrill@gustr.com</td>\n",
       "      <td>ORG_INVITE</td>\n",
       "      <td>1.363735e+09</td>\n",
       "      <td>0</td>\n",
       "      <td>0</td>\n",
       "      <td>94</td>\n",
       "      <td>1525.0</td>\n",
       "    </tr>\n",
       "    <tr>\n",
       "      <th>3</th>\n",
       "      <td>4</td>\n",
       "      <td>2013-05-21 08:09:28</td>\n",
       "      <td>Clausen Nicklas</td>\n",
       "      <td>NicklasSClausen@yahoo.com</td>\n",
       "      <td>GUEST_INVITE</td>\n",
       "      <td>1.369210e+09</td>\n",
       "      <td>0</td>\n",
       "      <td>0</td>\n",
       "      <td>1</td>\n",
       "      <td>5151.0</td>\n",
       "    </tr>\n",
       "    <tr>\n",
       "      <th>4</th>\n",
       "      <td>5</td>\n",
       "      <td>2013-01-17 10:14:20</td>\n",
       "      <td>Raw Grace</td>\n",
       "      <td>GraceRaw@yahoo.com</td>\n",
       "      <td>GUEST_INVITE</td>\n",
       "      <td>1.358850e+09</td>\n",
       "      <td>0</td>\n",
       "      <td>0</td>\n",
       "      <td>193</td>\n",
       "      <td>5240.0</td>\n",
       "    </tr>\n",
       "    <tr>\n",
       "      <th>...</th>\n",
       "      <td>...</td>\n",
       "      <td>...</td>\n",
       "      <td>...</td>\n",
       "      <td>...</td>\n",
       "      <td>...</td>\n",
       "      <td>...</td>\n",
       "      <td>...</td>\n",
       "      <td>...</td>\n",
       "      <td>...</td>\n",
       "      <td>...</td>\n",
       "    </tr>\n",
       "    <tr>\n",
       "      <th>11995</th>\n",
       "      <td>11996</td>\n",
       "      <td>2013-09-06 06:14:15</td>\n",
       "      <td>Meier Sophia</td>\n",
       "      <td>SophiaMeier@gustr.com</td>\n",
       "      <td>ORG_INVITE</td>\n",
       "      <td>1.378448e+09</td>\n",
       "      <td>0</td>\n",
       "      <td>0</td>\n",
       "      <td>89</td>\n",
       "      <td>8263.0</td>\n",
       "    </tr>\n",
       "    <tr>\n",
       "      <th>11996</th>\n",
       "      <td>11997</td>\n",
       "      <td>2013-01-10 18:28:37</td>\n",
       "      <td>Fisher Amelie</td>\n",
       "      <td>AmelieFisher@gmail.com</td>\n",
       "      <td>SIGNUP_GOOGLE_AUTH</td>\n",
       "      <td>1.358275e+09</td>\n",
       "      <td>0</td>\n",
       "      <td>0</td>\n",
       "      <td>200</td>\n",
       "      <td>NaN</td>\n",
       "    </tr>\n",
       "    <tr>\n",
       "      <th>11997</th>\n",
       "      <td>11998</td>\n",
       "      <td>2014-04-27 12:45:16</td>\n",
       "      <td>Haynes Jake</td>\n",
       "      <td>JakeHaynes@cuvox.de</td>\n",
       "      <td>GUEST_INVITE</td>\n",
       "      <td>1.398603e+09</td>\n",
       "      <td>1</td>\n",
       "      <td>1</td>\n",
       "      <td>83</td>\n",
       "      <td>8074.0</td>\n",
       "    </tr>\n",
       "    <tr>\n",
       "      <th>11998</th>\n",
       "      <td>11999</td>\n",
       "      <td>2012-05-31 11:55:59</td>\n",
       "      <td>Faber Annett</td>\n",
       "      <td>mhaerzxp@iuxiw.com</td>\n",
       "      <td>PERSONAL_PROJECTS</td>\n",
       "      <td>1.338638e+09</td>\n",
       "      <td>0</td>\n",
       "      <td>0</td>\n",
       "      <td>6</td>\n",
       "      <td>NaN</td>\n",
       "    </tr>\n",
       "    <tr>\n",
       "      <th>11999</th>\n",
       "      <td>12000</td>\n",
       "      <td>2014-01-26 08:57:12</td>\n",
       "      <td>Lima Thaís</td>\n",
       "      <td>ThaisMeloLima@hotmail.com</td>\n",
       "      <td>SIGNUP</td>\n",
       "      <td>1.390727e+09</td>\n",
       "      <td>0</td>\n",
       "      <td>1</td>\n",
       "      <td>0</td>\n",
       "      <td>NaN</td>\n",
       "    </tr>\n",
       "  </tbody>\n",
       "</table>\n",
       "<p>12000 rows × 10 columns</p>\n",
       "</div>"
      ],
      "text/plain": [
       "       object_id        creation_time               name  \\\n",
       "0              1  2014-04-22 03:53:30     Clausen August   \n",
       "1              2  2013-11-15 03:45:04      Poole Matthew   \n",
       "2              3  2013-03-19 23:14:52  Bottrill Mitchell   \n",
       "3              4  2013-05-21 08:09:28    Clausen Nicklas   \n",
       "4              5  2013-01-17 10:14:20          Raw Grace   \n",
       "...          ...                  ...                ...   \n",
       "11995      11996  2013-09-06 06:14:15       Meier Sophia   \n",
       "11996      11997  2013-01-10 18:28:37      Fisher Amelie   \n",
       "11997      11998  2014-04-27 12:45:16        Haynes Jake   \n",
       "11998      11999  2012-05-31 11:55:59       Faber Annett   \n",
       "11999      12000  2014-01-26 08:57:12         Lima Thaís   \n",
       "\n",
       "                            email     creation_source  \\\n",
       "0        AugustCClausen@yahoo.com        GUEST_INVITE   \n",
       "1          MatthewPoole@gustr.com          ORG_INVITE   \n",
       "2      MitchellBottrill@gustr.com          ORG_INVITE   \n",
       "3       NicklasSClausen@yahoo.com        GUEST_INVITE   \n",
       "4              GraceRaw@yahoo.com        GUEST_INVITE   \n",
       "...                           ...                 ...   \n",
       "11995       SophiaMeier@gustr.com          ORG_INVITE   \n",
       "11996      AmelieFisher@gmail.com  SIGNUP_GOOGLE_AUTH   \n",
       "11997         JakeHaynes@cuvox.de        GUEST_INVITE   \n",
       "11998          mhaerzxp@iuxiw.com   PERSONAL_PROJECTS   \n",
       "11999   ThaisMeloLima@hotmail.com              SIGNUP   \n",
       "\n",
       "       last_session_creation_time  opted_in_to_mailing_list  \\\n",
       "0                    1.398139e+09                         1   \n",
       "1                    1.396238e+09                         0   \n",
       "2                    1.363735e+09                         0   \n",
       "3                    1.369210e+09                         0   \n",
       "4                    1.358850e+09                         0   \n",
       "...                           ...                       ...   \n",
       "11995                1.378448e+09                         0   \n",
       "11996                1.358275e+09                         0   \n",
       "11997                1.398603e+09                         1   \n",
       "11998                1.338638e+09                         0   \n",
       "11999                1.390727e+09                         0   \n",
       "\n",
       "       enabled_for_marketing_drip  org_id  invited_by_user_id  \n",
       "0                               0      11             10803.0  \n",
       "1                               0       1               316.0  \n",
       "2                               0      94              1525.0  \n",
       "3                               0       1              5151.0  \n",
       "4                               0     193              5240.0  \n",
       "...                           ...     ...                 ...  \n",
       "11995                           0      89              8263.0  \n",
       "11996                           0     200                 NaN  \n",
       "11997                           1      83              8074.0  \n",
       "11998                           0       6                 NaN  \n",
       "11999                           1       0                 NaN  \n",
       "\n",
       "[12000 rows x 10 columns]"
      ]
     },
     "execution_count": 32,
     "metadata": {},
     "output_type": "execute_result"
    }
   ],
   "source": [
    "takehome_users"
   ]
  },
  {
   "cell_type": "code",
   "execution_count": null,
   "metadata": {},
   "outputs": [],
   "source": [
    "#delete anything between these two "
   ]
  },
  {
   "cell_type": "code",
   "execution_count": 112,
   "metadata": {},
   "outputs": [
    {
     "data": {
      "text/plain": [
       "2047     1\n",
       "7473     1\n",
       "9534     1\n",
       "3387     1\n",
       "1338     1\n",
       "        ..\n",
       "10904    1\n",
       "4759     1\n",
       "6806     1\n",
       "661      1\n",
       "2049     1\n",
       "Name: object_id, Length: 12000, dtype: int64"
      ]
     },
     "execution_count": 112,
     "metadata": {},
     "output_type": "execute_result"
    }
   ],
   "source": [
    "takehome_users.object_id.value_counts()"
   ]
  },
  {
   "cell_type": "code",
   "execution_count": null,
   "metadata": {},
   "outputs": [],
   "source": []
  },
  {
   "cell_type": "code",
   "execution_count": 110,
   "metadata": {},
   "outputs": [],
   "source": [
    "#delete anything between these two"
   ]
  },
  {
   "cell_type": "markdown",
   "metadata": {},
   "source": [
    "## Getting the general information about the table"
   ]
  },
  {
   "cell_type": "code",
   "execution_count": 41,
   "metadata": {},
   "outputs": [
    {
     "name": "stdout",
     "output_type": "stream",
     "text": [
      "<class 'pandas.core.frame.DataFrame'>\n",
      "RangeIndex: 12000 entries, 0 to 11999\n",
      "Data columns (total 10 columns):\n",
      " #   Column                      Non-Null Count  Dtype  \n",
      "---  ------                      --------------  -----  \n",
      " 0   object_id                   12000 non-null  int64  \n",
      " 1   creation_time               12000 non-null  object \n",
      " 2   name                        12000 non-null  object \n",
      " 3   email                       12000 non-null  object \n",
      " 4   creation_source             12000 non-null  object \n",
      " 5   last_session_creation_time  8823 non-null   float64\n",
      " 6   opted_in_to_mailing_list    12000 non-null  int64  \n",
      " 7   enabled_for_marketing_drip  12000 non-null  int64  \n",
      " 8   org_id                      12000 non-null  int64  \n",
      " 9   invited_by_user_id          6417 non-null   float64\n",
      "dtypes: float64(2), int64(4), object(4)\n",
      "memory usage: 937.6+ KB\n"
     ]
    }
   ],
   "source": [
    "takehome_users.info()"
   ]
  },
  {
   "cell_type": "code",
   "execution_count": 44,
   "metadata": {},
   "outputs": [
    {
     "data": {
      "text/html": [
       "<div>\n",
       "<style scoped>\n",
       "    .dataframe tbody tr th:only-of-type {\n",
       "        vertical-align: middle;\n",
       "    }\n",
       "\n",
       "    .dataframe tbody tr th {\n",
       "        vertical-align: top;\n",
       "    }\n",
       "\n",
       "    .dataframe thead th {\n",
       "        text-align: right;\n",
       "    }\n",
       "</style>\n",
       "<table border=\"1\" class=\"dataframe\">\n",
       "  <thead>\n",
       "    <tr style=\"text-align: right;\">\n",
       "      <th></th>\n",
       "      <th>object_id</th>\n",
       "      <th>last_session_creation_time</th>\n",
       "      <th>opted_in_to_mailing_list</th>\n",
       "      <th>enabled_for_marketing_drip</th>\n",
       "      <th>org_id</th>\n",
       "      <th>invited_by_user_id</th>\n",
       "    </tr>\n",
       "  </thead>\n",
       "  <tbody>\n",
       "    <tr>\n",
       "      <th>count</th>\n",
       "      <td>12000.00000</td>\n",
       "      <td>8.823000e+03</td>\n",
       "      <td>12000.000000</td>\n",
       "      <td>12000.000000</td>\n",
       "      <td>12000.000000</td>\n",
       "      <td>6417.000000</td>\n",
       "    </tr>\n",
       "    <tr>\n",
       "      <th>mean</th>\n",
       "      <td>6000.50000</td>\n",
       "      <td>1.379279e+09</td>\n",
       "      <td>0.249500</td>\n",
       "      <td>0.149333</td>\n",
       "      <td>141.884583</td>\n",
       "      <td>5962.957145</td>\n",
       "    </tr>\n",
       "    <tr>\n",
       "      <th>std</th>\n",
       "      <td>3464.24595</td>\n",
       "      <td>1.953116e+07</td>\n",
       "      <td>0.432742</td>\n",
       "      <td>0.356432</td>\n",
       "      <td>124.056723</td>\n",
       "      <td>3383.761968</td>\n",
       "    </tr>\n",
       "    <tr>\n",
       "      <th>min</th>\n",
       "      <td>1.00000</td>\n",
       "      <td>1.338452e+09</td>\n",
       "      <td>0.000000</td>\n",
       "      <td>0.000000</td>\n",
       "      <td>0.000000</td>\n",
       "      <td>3.000000</td>\n",
       "    </tr>\n",
       "    <tr>\n",
       "      <th>25%</th>\n",
       "      <td>3000.75000</td>\n",
       "      <td>1.363195e+09</td>\n",
       "      <td>0.000000</td>\n",
       "      <td>0.000000</td>\n",
       "      <td>29.000000</td>\n",
       "      <td>3058.000000</td>\n",
       "    </tr>\n",
       "    <tr>\n",
       "      <th>50%</th>\n",
       "      <td>6000.50000</td>\n",
       "      <td>1.382888e+09</td>\n",
       "      <td>0.000000</td>\n",
       "      <td>0.000000</td>\n",
       "      <td>108.000000</td>\n",
       "      <td>5954.000000</td>\n",
       "    </tr>\n",
       "    <tr>\n",
       "      <th>75%</th>\n",
       "      <td>9000.25000</td>\n",
       "      <td>1.398443e+09</td>\n",
       "      <td>0.000000</td>\n",
       "      <td>0.000000</td>\n",
       "      <td>238.250000</td>\n",
       "      <td>8817.000000</td>\n",
       "    </tr>\n",
       "    <tr>\n",
       "      <th>max</th>\n",
       "      <td>12000.00000</td>\n",
       "      <td>1.402067e+09</td>\n",
       "      <td>1.000000</td>\n",
       "      <td>1.000000</td>\n",
       "      <td>416.000000</td>\n",
       "      <td>11999.000000</td>\n",
       "    </tr>\n",
       "  </tbody>\n",
       "</table>\n",
       "</div>"
      ],
      "text/plain": [
       "         object_id  last_session_creation_time  opted_in_to_mailing_list  \\\n",
       "count  12000.00000                8.823000e+03              12000.000000   \n",
       "mean    6000.50000                1.379279e+09                  0.249500   \n",
       "std     3464.24595                1.953116e+07                  0.432742   \n",
       "min        1.00000                1.338452e+09                  0.000000   \n",
       "25%     3000.75000                1.363195e+09                  0.000000   \n",
       "50%     6000.50000                1.382888e+09                  0.000000   \n",
       "75%     9000.25000                1.398443e+09                  0.000000   \n",
       "max    12000.00000                1.402067e+09                  1.000000   \n",
       "\n",
       "       enabled_for_marketing_drip        org_id  invited_by_user_id  \n",
       "count                12000.000000  12000.000000         6417.000000  \n",
       "mean                     0.149333    141.884583         5962.957145  \n",
       "std                      0.356432    124.056723         3383.761968  \n",
       "min                      0.000000      0.000000            3.000000  \n",
       "25%                      0.000000     29.000000         3058.000000  \n",
       "50%                      0.000000    108.000000         5954.000000  \n",
       "75%                      0.000000    238.250000         8817.000000  \n",
       "max                      1.000000    416.000000        11999.000000  "
      ]
     },
     "execution_count": 44,
     "metadata": {},
     "output_type": "execute_result"
    }
   ],
   "source": [
    "takehome_users.describe()"
   ]
  },
  {
   "cell_type": "markdown",
   "metadata": {},
   "source": [
    "## Visualising some of the columns "
   ]
  },
  {
   "cell_type": "markdown",
   "metadata": {},
   "source": [
    "### Trend for opting into mailing list"
   ]
  },
  {
   "cell_type": "code",
   "execution_count": 46,
   "metadata": {},
   "outputs": [
    {
     "data": {
      "text/plain": [
       "0    9006\n",
       "1    2994\n",
       "Name: opted_in_to_mailing_list, dtype: int64"
      ]
     },
     "execution_count": 46,
     "metadata": {},
     "output_type": "execute_result"
    }
   ],
   "source": [
    "takehome_users['opted_in_to_mailing_list'].value_counts()"
   ]
  },
  {
   "cell_type": "code",
   "execution_count": 58,
   "metadata": {},
   "outputs": [
    {
     "data": {
      "text/plain": [
       "Text(0, 0.5, 'Frequency')"
      ]
     },
     "execution_count": 58,
     "metadata": {},
     "output_type": "execute_result"
    },
    {
     "data": {
      "image/png": "[encoded data removed]",
      "text/plain": [
       "<Figure size 432x288 with 1 Axes>"
      ]
     },
     "metadata": {
      "needs_background": "light"
     },
     "output_type": "display_data"
    }
   ],
   "source": [
    "plt.bar(['No','Yes'],takehome_users['opted_in_to_mailing_list'].value_counts())\n",
    "plt.title('Graph showing users who opted into mailing list')\n",
    "plt.ylabel('Frequency')"
   ]
  },
  {
   "cell_type": "markdown",
   "metadata": {},
   "source": [
    "We can see that most users did not opt into the mailing list"
   ]
  },
  {
   "cell_type": "markdown",
   "metadata": {},
   "source": [
    "### Visualizing people and their organizations"
   ]
  },
  {
   "cell_type": "code",
   "execution_count": 60,
   "metadata": {},
   "outputs": [],
   "source": [
    "organization = pd.DataFrame(takehome_users['org_id'].value_counts())"
   ]
  },
  {
   "cell_type": "code",
   "execution_count": 68,
   "metadata": {},
   "outputs": [
    {
     "data": {
      "text/plain": [
       "Text(0.5, 0, 'Organization Id')"
      ]
     },
     "execution_count": 68,
     "metadata": {},
     "output_type": "execute_result"
    },
    {
     "data": {
      "image/png": "[encoded data removed]",
      "text/plain": [
       "<Figure size 432x288 with 1 Axes>"
      ]
     },
     "metadata": {
      "needs_background": "light"
     },
     "output_type": "display_data"
    }
   ],
   "source": [
    "plt.bar(organization.index, organization.org_id )\n",
    "plt.title('Distribution of members in each Organiztion ')\n",
    "plt.ylabel('Frequency')\n",
    "plt.xlabel('Organization Id')"
   ]
  },
  {
   "cell_type": "code",
   "execution_count": 72,
   "metadata": {},
   "outputs": [
    {
     "name": "stdout",
     "output_type": "stream",
     "text": [
      "The organization with the highest members has 319 members, while the organization with the least members has 2 members\n"
     ]
    }
   ],
   "source": [
    "print('The organization with the highest members has', organization.org_id.max(), 'members, while the organization with the least members has',\n",
    "organization.org_id.min(), 'members')"
   ]
  },
  {
   "cell_type": "markdown",
   "metadata": {},
   "source": [
    "### Visualizing creation source"
   ]
  },
  {
   "cell_type": "code",
   "execution_count": 75,
   "metadata": {},
   "outputs": [],
   "source": [
    "e = takehome_users['creation_source'].value_counts()"
   ]
  },
  {
   "cell_type": "code",
   "execution_count": 102,
   "metadata": {},
   "outputs": [
    {
     "data": {
      "text/plain": [
       "Text(0.5, 1.0, 'Distribution of Creation Source')"
      ]
     },
     "execution_count": 102,
     "metadata": {},
     "output_type": "execute_result"
    },
    {
     "data": {
      "image/png": "[encoded data removed]",
      "text/plain": [
       "<Figure size 432x288 with 1 Axes>"
      ]
     },
     "metadata": {
      "needs_background": "light"
     },
     "output_type": "display_data"
    }
   ],
   "source": [
    "plt.bar(e.index,e)\n",
    "plt.xticks(rotation=30)\n",
    "plt.ylabel('Frequency')\n",
    "plt.title('Distribution of Creation Source')"
   ]
  },
  {
   "cell_type": "code",
   "execution_count": 82,
   "metadata": {},
   "outputs": [
    {
     "data": {
      "text/plain": [
       "ORG_INVITE            4254\n",
       "GUEST_INVITE          2163\n",
       "PERSONAL_PROJECTS     2111\n",
       "SIGNUP                2087\n",
       "SIGNUP_GOOGLE_AUTH    1385\n",
       "Name: creation_source, dtype: int64"
      ]
     },
     "execution_count": 82,
     "metadata": {},
     "output_type": "execute_result"
    }
   ],
   "source": [
    "e"
   ]
  },
  {
   "cell_type": "code",
   "execution_count": null,
   "metadata": {},
   "outputs": [],
   "source": []
  },
  {
   "cell_type": "markdown",
   "metadata": {},
   "source": [
    "# Exploring the Take Home Users Engagement Table"
   ]
  },
  {
   "cell_type": "code",
   "execution_count": 33,
   "metadata": {},
   "outputs": [],
   "source": [
    "takehome_user_engagement = pd.read_csv('takehome_user_engagement.csv', sep=',' , encoding='latin-1')"
   ]
  },
  {
   "cell_type": "code",
   "execution_count": 34,
   "metadata": {},
   "outputs": [
    {
     "data": {
      "text/html": [
       "<div>\n",
       "<style scoped>\n",
       "    .dataframe tbody tr th:only-of-type {\n",
       "        vertical-align: middle;\n",
       "    }\n",
       "\n",
       "    .dataframe tbody tr th {\n",
       "        vertical-align: top;\n",
       "    }\n",
       "\n",
       "    .dataframe thead th {\n",
       "        text-align: right;\n",
       "    }\n",
       "</style>\n",
       "<table border=\"1\" class=\"dataframe\">\n",
       "  <thead>\n",
       "    <tr style=\"text-align: right;\">\n",
       "      <th></th>\n",
       "      <th>time_stamp</th>\n",
       "      <th>user_id</th>\n",
       "      <th>visited</th>\n",
       "    </tr>\n",
       "  </thead>\n",
       "  <tbody>\n",
       "    <tr>\n",
       "      <th>0</th>\n",
       "      <td>2014-04-22 03:53:30</td>\n",
       "      <td>1</td>\n",
       "      <td>1</td>\n",
       "    </tr>\n",
       "    <tr>\n",
       "      <th>1</th>\n",
       "      <td>2013-11-15 03:45:04</td>\n",
       "      <td>2</td>\n",
       "      <td>1</td>\n",
       "    </tr>\n",
       "    <tr>\n",
       "      <th>2</th>\n",
       "      <td>2013-11-29 03:45:04</td>\n",
       "      <td>2</td>\n",
       "      <td>1</td>\n",
       "    </tr>\n",
       "    <tr>\n",
       "      <th>3</th>\n",
       "      <td>2013-12-09 03:45:04</td>\n",
       "      <td>2</td>\n",
       "      <td>1</td>\n",
       "    </tr>\n",
       "    <tr>\n",
       "      <th>4</th>\n",
       "      <td>2013-12-25 03:45:04</td>\n",
       "      <td>2</td>\n",
       "      <td>1</td>\n",
       "    </tr>\n",
       "    <tr>\n",
       "      <th>...</th>\n",
       "      <td>...</td>\n",
       "      <td>...</td>\n",
       "      <td>...</td>\n",
       "    </tr>\n",
       "    <tr>\n",
       "      <th>207912</th>\n",
       "      <td>2013-09-06 06:14:15</td>\n",
       "      <td>11996</td>\n",
       "      <td>1</td>\n",
       "    </tr>\n",
       "    <tr>\n",
       "      <th>207913</th>\n",
       "      <td>2013-01-15 18:28:37</td>\n",
       "      <td>11997</td>\n",
       "      <td>1</td>\n",
       "    </tr>\n",
       "    <tr>\n",
       "      <th>207914</th>\n",
       "      <td>2014-04-27 12:45:16</td>\n",
       "      <td>11998</td>\n",
       "      <td>1</td>\n",
       "    </tr>\n",
       "    <tr>\n",
       "      <th>207915</th>\n",
       "      <td>2012-06-02 11:55:59</td>\n",
       "      <td>11999</td>\n",
       "      <td>1</td>\n",
       "    </tr>\n",
       "    <tr>\n",
       "      <th>207916</th>\n",
       "      <td>2014-01-26 08:57:12</td>\n",
       "      <td>12000</td>\n",
       "      <td>1</td>\n",
       "    </tr>\n",
       "  </tbody>\n",
       "</table>\n",
       "<p>207917 rows × 3 columns</p>\n",
       "</div>"
      ],
      "text/plain": [
       "                 time_stamp  user_id  visited\n",
       "0       2014-04-22 03:53:30        1        1\n",
       "1       2013-11-15 03:45:04        2        1\n",
       "2       2013-11-29 03:45:04        2        1\n",
       "3       2013-12-09 03:45:04        2        1\n",
       "4       2013-12-25 03:45:04        2        1\n",
       "...                     ...      ...      ...\n",
       "207912  2013-09-06 06:14:15    11996        1\n",
       "207913  2013-01-15 18:28:37    11997        1\n",
       "207914  2014-04-27 12:45:16    11998        1\n",
       "207915  2012-06-02 11:55:59    11999        1\n",
       "207916  2014-01-26 08:57:12    12000        1\n",
       "\n",
       "[207917 rows x 3 columns]"
      ]
     },
     "execution_count": 34,
     "metadata": {},
     "output_type": "execute_result"
    }
   ],
   "source": [
    "takehome_user_engagement"
   ]
  },
  {
   "cell_type": "markdown",
   "metadata": {},
   "source": [
    "# Ignore below this"
   ]
  },
  {
   "cell_type": "code",
   "execution_count": 168,
   "metadata": {},
   "outputs": [],
   "source": [
    "takehome_user_engagement['time_stamp']= pd.to_datetime(takehome_user_engagement['time_stamp'])"
   ]
  },
  {
   "cell_type": "code",
   "execution_count": 171,
   "metadata": {},
   "outputs": [
    {
     "data": {
      "text/plain": [
       "Timedelta('-10 days +00:00:00')"
      ]
     },
     "execution_count": 171,
     "metadata": {},
     "output_type": "execute_result"
    }
   ],
   "source": [
    "takehome_user_engagement['time_stamp'][2]-takehome_user_engagement['time_stamp'][3]"
   ]
  },
  {
   "cell_type": "code",
   "execution_count": 183,
   "metadata": {},
   "outputs": [
    {
     "data": {
      "text/plain": [
       "True"
      ]
     },
     "execution_count": 183,
     "metadata": {},
     "output_type": "execute_result"
    }
   ],
   "source": [
    "takehome_user_engagement[takehome_user_engagement['user_id'].count() >= 3]"
   ]
  },
  {
   "cell_type": "markdown",
   "metadata": {},
   "source": [
    "# Ignore above this"
   ]
  },
  {
   "cell_type": "code",
   "execution_count": 35,
   "metadata": {},
   "outputs": [
    {
     "name": "stdout",
     "output_type": "stream",
     "text": [
      "<class 'pandas.core.frame.DataFrame'>\n",
      "RangeIndex: 207917 entries, 0 to 207916\n",
      "Data columns (total 3 columns):\n",
      " #   Column      Non-Null Count   Dtype \n",
      "---  ------      --------------   ----- \n",
      " 0   time_stamp  207917 non-null  object\n",
      " 1   user_id     207917 non-null  int64 \n",
      " 2   visited     207917 non-null  int64 \n",
      "dtypes: int64(2), object(1)\n",
      "memory usage: 4.8+ MB\n"
     ]
    }
   ],
   "source": [
    "takehome_user_engagement.info()"
   ]
  },
  {
   "cell_type": "code",
   "execution_count": 36,
   "metadata": {},
   "outputs": [],
   "source": [
    "c = takehome_user_engagement.groupby('user_id').count()"
   ]
  },
  {
   "cell_type": "code",
   "execution_count": 37,
   "metadata": {},
   "outputs": [
    {
     "data": {
      "text/html": [
       "<div>\n",
       "<style scoped>\n",
       "    .dataframe tbody tr th:only-of-type {\n",
       "        vertical-align: middle;\n",
       "    }\n",
       "\n",
       "    .dataframe tbody tr th {\n",
       "        vertical-align: top;\n",
       "    }\n",
       "\n",
       "    .dataframe thead th {\n",
       "        text-align: right;\n",
       "    }\n",
       "</style>\n",
       "<table border=\"1\" class=\"dataframe\">\n",
       "  <thead>\n",
       "    <tr style=\"text-align: right;\">\n",
       "      <th></th>\n",
       "      <th>time_stamp</th>\n",
       "      <th>visited</th>\n",
       "    </tr>\n",
       "    <tr>\n",
       "      <th>user_id</th>\n",
       "      <th></th>\n",
       "      <th></th>\n",
       "    </tr>\n",
       "  </thead>\n",
       "  <tbody>\n",
       "    <tr>\n",
       "      <th>1</th>\n",
       "      <td>1</td>\n",
       "      <td>1</td>\n",
       "    </tr>\n",
       "    <tr>\n",
       "      <th>2</th>\n",
       "      <td>14</td>\n",
       "      <td>14</td>\n",
       "    </tr>\n",
       "    <tr>\n",
       "      <th>3</th>\n",
       "      <td>1</td>\n",
       "      <td>1</td>\n",
       "    </tr>\n",
       "    <tr>\n",
       "      <th>4</th>\n",
       "      <td>1</td>\n",
       "      <td>1</td>\n",
       "    </tr>\n",
       "    <tr>\n",
       "      <th>5</th>\n",
       "      <td>1</td>\n",
       "      <td>1</td>\n",
       "    </tr>\n",
       "    <tr>\n",
       "      <th>...</th>\n",
       "      <td>...</td>\n",
       "      <td>...</td>\n",
       "    </tr>\n",
       "    <tr>\n",
       "      <th>11996</th>\n",
       "      <td>1</td>\n",
       "      <td>1</td>\n",
       "    </tr>\n",
       "    <tr>\n",
       "      <th>11997</th>\n",
       "      <td>1</td>\n",
       "      <td>1</td>\n",
       "    </tr>\n",
       "    <tr>\n",
       "      <th>11998</th>\n",
       "      <td>1</td>\n",
       "      <td>1</td>\n",
       "    </tr>\n",
       "    <tr>\n",
       "      <th>11999</th>\n",
       "      <td>1</td>\n",
       "      <td>1</td>\n",
       "    </tr>\n",
       "    <tr>\n",
       "      <th>12000</th>\n",
       "      <td>1</td>\n",
       "      <td>1</td>\n",
       "    </tr>\n",
       "  </tbody>\n",
       "</table>\n",
       "<p>8823 rows × 2 columns</p>\n",
       "</div>"
      ],
      "text/plain": [
       "         time_stamp  visited\n",
       "user_id                     \n",
       "1                 1        1\n",
       "2                14       14\n",
       "3                 1        1\n",
       "4                 1        1\n",
       "5                 1        1\n",
       "...             ...      ...\n",
       "11996             1        1\n",
       "11997             1        1\n",
       "11998             1        1\n",
       "11999             1        1\n",
       "12000             1        1\n",
       "\n",
       "[8823 rows x 2 columns]"
      ]
     },
     "execution_count": 37,
     "metadata": {},
     "output_type": "execute_result"
    }
   ],
   "source": [
    "c"
   ]
  },
  {
   "cell_type": "code",
   "execution_count": null,
   "metadata": {},
   "outputs": [],
   "source": []
  },
  {
   "cell_type": "code",
   "execution_count": 103,
   "metadata": {},
   "outputs": [
    {
     "data": {
      "text/plain": [
       "Text(0.5, 1.0, \"Table showing Frequency of Users' Visitation\")"
      ]
     },
     "execution_count": 103,
     "metadata": {},
     "output_type": "execute_result"
    },
    {
     "data": {
      "image/png": "[encoded data removed]",
      "text/plain": [
       "<Figure size 432x288 with 1 Axes>"
      ]
     },
     "metadata": {
      "needs_background": "light"
     },
     "output_type": "display_data"
    }
   ],
   "source": [
    "plt.plot(c.index,c.visited)\n",
    "plt.title(\"Table showing Frequency of Users' Visitation\")"
   ]
  },
  {
   "cell_type": "code",
   "execution_count": 107,
   "metadata": {},
   "outputs": [
    {
     "data": {
      "text/plain": [
       "606"
      ]
     },
     "execution_count": 107,
     "metadata": {},
     "output_type": "execute_result"
    }
   ],
   "source": [
    "c.visited.max()"
   ]
  },
  {
   "cell_type": "code",
   "execution_count": 40,
   "metadata": {},
   "outputs": [
    {
     "data": {
      "text/html": [
       "<div>\n",
       "<style scoped>\n",
       "    .dataframe tbody tr th:only-of-type {\n",
       "        vertical-align: middle;\n",
       "    }\n",
       "\n",
       "    .dataframe tbody tr th {\n",
       "        vertical-align: top;\n",
       "    }\n",
       "\n",
       "    .dataframe thead th {\n",
       "        text-align: right;\n",
       "    }\n",
       "</style>\n",
       "<table border=\"1\" class=\"dataframe\">\n",
       "  <thead>\n",
       "    <tr style=\"text-align: right;\">\n",
       "      <th></th>\n",
       "      <th>time_stamp</th>\n",
       "      <th>visited</th>\n",
       "    </tr>\n",
       "    <tr>\n",
       "      <th>user_id</th>\n",
       "      <th></th>\n",
       "      <th></th>\n",
       "    </tr>\n",
       "  </thead>\n",
       "  <tbody>\n",
       "    <tr>\n",
       "      <th>3623</th>\n",
       "      <td>606</td>\n",
       "      <td>606</td>\n",
       "    </tr>\n",
       "  </tbody>\n",
       "</table>\n",
       "</div>"
      ],
      "text/plain": [
       "         time_stamp  visited\n",
       "user_id                     \n",
       "3623            606      606"
      ]
     },
     "execution_count": 40,
     "metadata": {},
     "output_type": "execute_result"
    }
   ],
   "source": [
    "c[c.visited == 606]"
   ]
  },
  {
   "cell_type": "code",
   "execution_count": null,
   "metadata": {},
   "outputs": [],
   "source": [
    "TO do list- concatenate tables, then group then filter by users who logged in more than 3 times"
   ]
  },
  {
   "cell_type": "code",
   "execution_count": null,
   "metadata": {},
   "outputs": [],
   "source": []
  },
  {
   "cell_type": "markdown",
   "metadata": {},
   "source": [
    "# Concatenating Tables"
   ]
  },
  {
   "cell_type": "code",
   "execution_count": 148,
   "metadata": {},
   "outputs": [],
   "source": [
    "concatenated_table = pd.merge(takehome_users,takehome_user_engagement, left_on=takehome_users.object_id, right_on=takehome_user_engagement.user_id)"
   ]
  },
  {
   "cell_type": "code",
   "execution_count": 149,
   "metadata": {},
   "outputs": [
    {
     "data": {
      "text/html": [
       "<div>\n",
       "<style scoped>\n",
       "    .dataframe tbody tr th:only-of-type {\n",
       "        vertical-align: middle;\n",
       "    }\n",
       "\n",
       "    .dataframe tbody tr th {\n",
       "        vertical-align: top;\n",
       "    }\n",
       "\n",
       "    .dataframe thead th {\n",
       "        text-align: right;\n",
       "    }\n",
       "</style>\n",
       "<table border=\"1\" class=\"dataframe\">\n",
       "  <thead>\n",
       "    <tr style=\"text-align: right;\">\n",
       "      <th></th>\n",
       "      <th>key_0</th>\n",
       "      <th>object_id</th>\n",
       "      <th>creation_time</th>\n",
       "      <th>name</th>\n",
       "      <th>email</th>\n",
       "      <th>creation_source</th>\n",
       "      <th>last_session_creation_time</th>\n",
       "      <th>opted_in_to_mailing_list</th>\n",
       "      <th>enabled_for_marketing_drip</th>\n",
       "      <th>org_id</th>\n",
       "      <th>invited_by_user_id</th>\n",
       "      <th>time_stamp</th>\n",
       "      <th>user_id</th>\n",
       "      <th>visited</th>\n",
       "    </tr>\n",
       "  </thead>\n",
       "  <tbody>\n",
       "    <tr>\n",
       "      <th>0</th>\n",
       "      <td>1</td>\n",
       "      <td>1</td>\n",
       "      <td>2014-04-22 03:53:30</td>\n",
       "      <td>Clausen August</td>\n",
       "      <td>AugustCClausen@yahoo.com</td>\n",
       "      <td>GUEST_INVITE</td>\n",
       "      <td>1.398139e+09</td>\n",
       "      <td>1</td>\n",
       "      <td>0</td>\n",
       "      <td>11</td>\n",
       "      <td>10803.0</td>\n",
       "      <td>2014-04-22 03:53:30</td>\n",
       "      <td>1</td>\n",
       "      <td>1</td>\n",
       "    </tr>\n",
       "    <tr>\n",
       "      <th>1</th>\n",
       "      <td>2</td>\n",
       "      <td>2</td>\n",
       "      <td>2013-11-15 03:45:04</td>\n",
       "      <td>Poole Matthew</td>\n",
       "      <td>MatthewPoole@gustr.com</td>\n",
       "      <td>ORG_INVITE</td>\n",
       "      <td>1.396238e+09</td>\n",
       "      <td>0</td>\n",
       "      <td>0</td>\n",
       "      <td>1</td>\n",
       "      <td>316.0</td>\n",
       "      <td>2013-11-15 03:45:04</td>\n",
       "      <td>2</td>\n",
       "      <td>1</td>\n",
       "    </tr>\n",
       "    <tr>\n",
       "      <th>2</th>\n",
       "      <td>2</td>\n",
       "      <td>2</td>\n",
       "      <td>2013-11-15 03:45:04</td>\n",
       "      <td>Poole Matthew</td>\n",
       "      <td>MatthewPoole@gustr.com</td>\n",
       "      <td>ORG_INVITE</td>\n",
       "      <td>1.396238e+09</td>\n",
       "      <td>0</td>\n",
       "      <td>0</td>\n",
       "      <td>1</td>\n",
       "      <td>316.0</td>\n",
       "      <td>2013-11-29 03:45:04</td>\n",
       "      <td>2</td>\n",
       "      <td>1</td>\n",
       "    </tr>\n",
       "    <tr>\n",
       "      <th>3</th>\n",
       "      <td>2</td>\n",
       "      <td>2</td>\n",
       "      <td>2013-11-15 03:45:04</td>\n",
       "      <td>Poole Matthew</td>\n",
       "      <td>MatthewPoole@gustr.com</td>\n",
       "      <td>ORG_INVITE</td>\n",
       "      <td>1.396238e+09</td>\n",
       "      <td>0</td>\n",
       "      <td>0</td>\n",
       "      <td>1</td>\n",
       "      <td>316.0</td>\n",
       "      <td>2013-12-09 03:45:04</td>\n",
       "      <td>2</td>\n",
       "      <td>1</td>\n",
       "    </tr>\n",
       "    <tr>\n",
       "      <th>4</th>\n",
       "      <td>2</td>\n",
       "      <td>2</td>\n",
       "      <td>2013-11-15 03:45:04</td>\n",
       "      <td>Poole Matthew</td>\n",
       "      <td>MatthewPoole@gustr.com</td>\n",
       "      <td>ORG_INVITE</td>\n",
       "      <td>1.396238e+09</td>\n",
       "      <td>0</td>\n",
       "      <td>0</td>\n",
       "      <td>1</td>\n",
       "      <td>316.0</td>\n",
       "      <td>2013-12-25 03:45:04</td>\n",
       "      <td>2</td>\n",
       "      <td>1</td>\n",
       "    </tr>\n",
       "    <tr>\n",
       "      <th>...</th>\n",
       "      <td>...</td>\n",
       "      <td>...</td>\n",
       "      <td>...</td>\n",
       "      <td>...</td>\n",
       "      <td>...</td>\n",
       "      <td>...</td>\n",
       "      <td>...</td>\n",
       "      <td>...</td>\n",
       "      <td>...</td>\n",
       "      <td>...</td>\n",
       "      <td>...</td>\n",
       "      <td>...</td>\n",
       "      <td>...</td>\n",
       "      <td>...</td>\n",
       "    </tr>\n",
       "    <tr>\n",
       "      <th>95</th>\n",
       "      <td>10</td>\n",
       "      <td>10</td>\n",
       "      <td>2013-01-16 22:08:03</td>\n",
       "      <td>Santos Carla</td>\n",
       "      <td>CarlaFerreiraSantos@gustr.com</td>\n",
       "      <td>ORG_INVITE</td>\n",
       "      <td>1.401833e+09</td>\n",
       "      <td>1</td>\n",
       "      <td>1</td>\n",
       "      <td>318</td>\n",
       "      <td>4143.0</td>\n",
       "      <td>2013-07-30 22:08:03</td>\n",
       "      <td>10</td>\n",
       "      <td>1</td>\n",
       "    </tr>\n",
       "    <tr>\n",
       "      <th>96</th>\n",
       "      <td>10</td>\n",
       "      <td>10</td>\n",
       "      <td>2013-01-16 22:08:03</td>\n",
       "      <td>Santos Carla</td>\n",
       "      <td>CarlaFerreiraSantos@gustr.com</td>\n",
       "      <td>ORG_INVITE</td>\n",
       "      <td>1.401833e+09</td>\n",
       "      <td>1</td>\n",
       "      <td>1</td>\n",
       "      <td>318</td>\n",
       "      <td>4143.0</td>\n",
       "      <td>2013-08-02 22:08:03</td>\n",
       "      <td>10</td>\n",
       "      <td>1</td>\n",
       "    </tr>\n",
       "    <tr>\n",
       "      <th>97</th>\n",
       "      <td>10</td>\n",
       "      <td>10</td>\n",
       "      <td>2013-01-16 22:08:03</td>\n",
       "      <td>Santos Carla</td>\n",
       "      <td>CarlaFerreiraSantos@gustr.com</td>\n",
       "      <td>ORG_INVITE</td>\n",
       "      <td>1.401833e+09</td>\n",
       "      <td>1</td>\n",
       "      <td>1</td>\n",
       "      <td>318</td>\n",
       "      <td>4143.0</td>\n",
       "      <td>2013-08-03 22:08:03</td>\n",
       "      <td>10</td>\n",
       "      <td>1</td>\n",
       "    </tr>\n",
       "    <tr>\n",
       "      <th>98</th>\n",
       "      <td>10</td>\n",
       "      <td>10</td>\n",
       "      <td>2013-01-16 22:08:03</td>\n",
       "      <td>Santos Carla</td>\n",
       "      <td>CarlaFerreiraSantos@gustr.com</td>\n",
       "      <td>ORG_INVITE</td>\n",
       "      <td>1.401833e+09</td>\n",
       "      <td>1</td>\n",
       "      <td>1</td>\n",
       "      <td>318</td>\n",
       "      <td>4143.0</td>\n",
       "      <td>2013-08-04 22:08:03</td>\n",
       "      <td>10</td>\n",
       "      <td>1</td>\n",
       "    </tr>\n",
       "    <tr>\n",
       "      <th>99</th>\n",
       "      <td>10</td>\n",
       "      <td>10</td>\n",
       "      <td>2013-01-16 22:08:03</td>\n",
       "      <td>Santos Carla</td>\n",
       "      <td>CarlaFerreiraSantos@gustr.com</td>\n",
       "      <td>ORG_INVITE</td>\n",
       "      <td>1.401833e+09</td>\n",
       "      <td>1</td>\n",
       "      <td>1</td>\n",
       "      <td>318</td>\n",
       "      <td>4143.0</td>\n",
       "      <td>2013-08-06 22:08:03</td>\n",
       "      <td>10</td>\n",
       "      <td>1</td>\n",
       "    </tr>\n",
       "  </tbody>\n",
       "</table>\n",
       "<p>100 rows × 14 columns</p>\n",
       "</div>"
      ],
      "text/plain": [
       "    key_0  object_id        creation_time            name  \\\n",
       "0       1          1  2014-04-22 03:53:30  Clausen August   \n",
       "1       2          2  2013-11-15 03:45:04   Poole Matthew   \n",
       "2       2          2  2013-11-15 03:45:04   Poole Matthew   \n",
       "3       2          2  2013-11-15 03:45:04   Poole Matthew   \n",
       "4       2          2  2013-11-15 03:45:04   Poole Matthew   \n",
       "..    ...        ...                  ...             ...   \n",
       "95     10         10  2013-01-16 22:08:03    Santos Carla   \n",
       "96     10         10  2013-01-16 22:08:03    Santos Carla   \n",
       "97     10         10  2013-01-16 22:08:03    Santos Carla   \n",
       "98     10         10  2013-01-16 22:08:03    Santos Carla   \n",
       "99     10         10  2013-01-16 22:08:03    Santos Carla   \n",
       "\n",
       "                            email creation_source  last_session_creation_time  \\\n",
       "0        AugustCClausen@yahoo.com    GUEST_INVITE                1.398139e+09   \n",
       "1          MatthewPoole@gustr.com      ORG_INVITE                1.396238e+09   \n",
       "2          MatthewPoole@gustr.com      ORG_INVITE                1.396238e+09   \n",
       "3          MatthewPoole@gustr.com      ORG_INVITE                1.396238e+09   \n",
       "4          MatthewPoole@gustr.com      ORG_INVITE                1.396238e+09   \n",
       "..                            ...             ...                         ...   \n",
       "95  CarlaFerreiraSantos@gustr.com      ORG_INVITE                1.401833e+09   \n",
       "96  CarlaFerreiraSantos@gustr.com      ORG_INVITE                1.401833e+09   \n",
       "97  CarlaFerreiraSantos@gustr.com      ORG_INVITE                1.401833e+09   \n",
       "98  CarlaFerreiraSantos@gustr.com      ORG_INVITE                1.401833e+09   \n",
       "99  CarlaFerreiraSantos@gustr.com      ORG_INVITE                1.401833e+09   \n",
       "\n",
       "    opted_in_to_mailing_list  enabled_for_marketing_drip  org_id  \\\n",
       "0                          1                           0      11   \n",
       "1                          0                           0       1   \n",
       "2                          0                           0       1   \n",
       "3                          0                           0       1   \n",
       "4                          0                           0       1   \n",
       "..                       ...                         ...     ...   \n",
       "95                         1                           1     318   \n",
       "96                         1                           1     318   \n",
       "97                         1                           1     318   \n",
       "98                         1                           1     318   \n",
       "99                         1                           1     318   \n",
       "\n",
       "    invited_by_user_id           time_stamp  user_id  visited  \n",
       "0              10803.0  2014-04-22 03:53:30        1        1  \n",
       "1                316.0  2013-11-15 03:45:04        2        1  \n",
       "2                316.0  2013-11-29 03:45:04        2        1  \n",
       "3                316.0  2013-12-09 03:45:04        2        1  \n",
       "4                316.0  2013-12-25 03:45:04        2        1  \n",
       "..                 ...                  ...      ...      ...  \n",
       "95              4143.0  2013-07-30 22:08:03       10        1  \n",
       "96              4143.0  2013-08-02 22:08:03       10        1  \n",
       "97              4143.0  2013-08-03 22:08:03       10        1  \n",
       "98              4143.0  2013-08-04 22:08:03       10        1  \n",
       "99              4143.0  2013-08-06 22:08:03       10        1  \n",
       "\n",
       "[100 rows x 14 columns]"
      ]
     },
     "execution_count": 149,
     "metadata": {},
     "output_type": "execute_result"
    }
   ],
   "source": [
    "concatenated_table.head(100)"
   ]
  },
  {
   "cell_type": "markdown",
   "metadata": {},
   "source": [
    "## Combining the filtered users_engagement_table (denoted as c) with the takehome_users table"
   ]
  },
  {
   "cell_type": "code",
   "execution_count": 150,
   "metadata": {},
   "outputs": [],
   "source": [
    "c_concate = pd.merge(takehome_users,c, left_on=takehome_users.object_id,right_on=c.index)"
   ]
  },
  {
   "cell_type": "code",
   "execution_count": 151,
   "metadata": {},
   "outputs": [],
   "source": [
    "combined_table = c_concate"
   ]
  },
  {
   "cell_type": "code",
   "execution_count": 152,
   "metadata": {},
   "outputs": [],
   "source": [
    "combined_table.drop(['key_0','time_stamp'], axis=1, inplace=True)"
   ]
  },
  {
   "cell_type": "code",
   "execution_count": 153,
   "metadata": {},
   "outputs": [
    {
     "data": {
      "text/html": [
       "<div>\n",
       "<style scoped>\n",
       "    .dataframe tbody tr th:only-of-type {\n",
       "        vertical-align: middle;\n",
       "    }\n",
       "\n",
       "    .dataframe tbody tr th {\n",
       "        vertical-align: top;\n",
       "    }\n",
       "\n",
       "    .dataframe thead th {\n",
       "        text-align: right;\n",
       "    }\n",
       "</style>\n",
       "<table border=\"1\" class=\"dataframe\">\n",
       "  <thead>\n",
       "    <tr style=\"text-align: right;\">\n",
       "      <th></th>\n",
       "      <th>object_id</th>\n",
       "      <th>creation_time</th>\n",
       "      <th>name</th>\n",
       "      <th>email</th>\n",
       "      <th>creation_source</th>\n",
       "      <th>last_session_creation_time</th>\n",
       "      <th>opted_in_to_mailing_list</th>\n",
       "      <th>enabled_for_marketing_drip</th>\n",
       "      <th>org_id</th>\n",
       "      <th>invited_by_user_id</th>\n",
       "      <th>visited</th>\n",
       "    </tr>\n",
       "  </thead>\n",
       "  <tbody>\n",
       "    <tr>\n",
       "      <th>0</th>\n",
       "      <td>1</td>\n",
       "      <td>2014-04-22 03:53:30</td>\n",
       "      <td>Clausen August</td>\n",
       "      <td>AugustCClausen@yahoo.com</td>\n",
       "      <td>GUEST_INVITE</td>\n",
       "      <td>1.398139e+09</td>\n",
       "      <td>1</td>\n",
       "      <td>0</td>\n",
       "      <td>11</td>\n",
       "      <td>10803.0</td>\n",
       "      <td>1</td>\n",
       "    </tr>\n",
       "    <tr>\n",
       "      <th>1</th>\n",
       "      <td>2</td>\n",
       "      <td>2013-11-15 03:45:04</td>\n",
       "      <td>Poole Matthew</td>\n",
       "      <td>MatthewPoole@gustr.com</td>\n",
       "      <td>ORG_INVITE</td>\n",
       "      <td>1.396238e+09</td>\n",
       "      <td>0</td>\n",
       "      <td>0</td>\n",
       "      <td>1</td>\n",
       "      <td>316.0</td>\n",
       "      <td>14</td>\n",
       "    </tr>\n",
       "    <tr>\n",
       "      <th>2</th>\n",
       "      <td>3</td>\n",
       "      <td>2013-03-19 23:14:52</td>\n",
       "      <td>Bottrill Mitchell</td>\n",
       "      <td>MitchellBottrill@gustr.com</td>\n",
       "      <td>ORG_INVITE</td>\n",
       "      <td>1.363735e+09</td>\n",
       "      <td>0</td>\n",
       "      <td>0</td>\n",
       "      <td>94</td>\n",
       "      <td>1525.0</td>\n",
       "      <td>1</td>\n",
       "    </tr>\n",
       "    <tr>\n",
       "      <th>3</th>\n",
       "      <td>4</td>\n",
       "      <td>2013-05-21 08:09:28</td>\n",
       "      <td>Clausen Nicklas</td>\n",
       "      <td>NicklasSClausen@yahoo.com</td>\n",
       "      <td>GUEST_INVITE</td>\n",
       "      <td>1.369210e+09</td>\n",
       "      <td>0</td>\n",
       "      <td>0</td>\n",
       "      <td>1</td>\n",
       "      <td>5151.0</td>\n",
       "      <td>1</td>\n",
       "    </tr>\n",
       "    <tr>\n",
       "      <th>4</th>\n",
       "      <td>5</td>\n",
       "      <td>2013-01-17 10:14:20</td>\n",
       "      <td>Raw Grace</td>\n",
       "      <td>GraceRaw@yahoo.com</td>\n",
       "      <td>GUEST_INVITE</td>\n",
       "      <td>1.358850e+09</td>\n",
       "      <td>0</td>\n",
       "      <td>0</td>\n",
       "      <td>193</td>\n",
       "      <td>5240.0</td>\n",
       "      <td>1</td>\n",
       "    </tr>\n",
       "    <tr>\n",
       "      <th>...</th>\n",
       "      <td>...</td>\n",
       "      <td>...</td>\n",
       "      <td>...</td>\n",
       "      <td>...</td>\n",
       "      <td>...</td>\n",
       "      <td>...</td>\n",
       "      <td>...</td>\n",
       "      <td>...</td>\n",
       "      <td>...</td>\n",
       "      <td>...</td>\n",
       "      <td>...</td>\n",
       "    </tr>\n",
       "    <tr>\n",
       "      <th>8818</th>\n",
       "      <td>11996</td>\n",
       "      <td>2013-09-06 06:14:15</td>\n",
       "      <td>Meier Sophia</td>\n",
       "      <td>SophiaMeier@gustr.com</td>\n",
       "      <td>ORG_INVITE</td>\n",
       "      <td>1.378448e+09</td>\n",
       "      <td>0</td>\n",
       "      <td>0</td>\n",
       "      <td>89</td>\n",
       "      <td>8263.0</td>\n",
       "      <td>1</td>\n",
       "    </tr>\n",
       "    <tr>\n",
       "      <th>8819</th>\n",
       "      <td>11997</td>\n",
       "      <td>2013-01-10 18:28:37</td>\n",
       "      <td>Fisher Amelie</td>\n",
       "      <td>AmelieFisher@gmail.com</td>\n",
       "      <td>SIGNUP_GOOGLE_AUTH</td>\n",
       "      <td>1.358275e+09</td>\n",
       "      <td>0</td>\n",
       "      <td>0</td>\n",
       "      <td>200</td>\n",
       "      <td>NaN</td>\n",
       "      <td>1</td>\n",
       "    </tr>\n",
       "    <tr>\n",
       "      <th>8820</th>\n",
       "      <td>11998</td>\n",
       "      <td>2014-04-27 12:45:16</td>\n",
       "      <td>Haynes Jake</td>\n",
       "      <td>JakeHaynes@cuvox.de</td>\n",
       "      <td>GUEST_INVITE</td>\n",
       "      <td>1.398603e+09</td>\n",
       "      <td>1</td>\n",
       "      <td>1</td>\n",
       "      <td>83</td>\n",
       "      <td>8074.0</td>\n",
       "      <td>1</td>\n",
       "    </tr>\n",
       "    <tr>\n",
       "      <th>8821</th>\n",
       "      <td>11999</td>\n",
       "      <td>2012-05-31 11:55:59</td>\n",
       "      <td>Faber Annett</td>\n",
       "      <td>mhaerzxp@iuxiw.com</td>\n",
       "      <td>PERSONAL_PROJECTS</td>\n",
       "      <td>1.338638e+09</td>\n",
       "      <td>0</td>\n",
       "      <td>0</td>\n",
       "      <td>6</td>\n",
       "      <td>NaN</td>\n",
       "      <td>1</td>\n",
       "    </tr>\n",
       "    <tr>\n",
       "      <th>8822</th>\n",
       "      <td>12000</td>\n",
       "      <td>2014-01-26 08:57:12</td>\n",
       "      <td>Lima Thaís</td>\n",
       "      <td>ThaisMeloLima@hotmail.com</td>\n",
       "      <td>SIGNUP</td>\n",
       "      <td>1.390727e+09</td>\n",
       "      <td>0</td>\n",
       "      <td>1</td>\n",
       "      <td>0</td>\n",
       "      <td>NaN</td>\n",
       "      <td>1</td>\n",
       "    </tr>\n",
       "  </tbody>\n",
       "</table>\n",
       "<p>8823 rows × 11 columns</p>\n",
       "</div>"
      ],
      "text/plain": [
       "      object_id        creation_time               name  \\\n",
       "0             1  2014-04-22 03:53:30     Clausen August   \n",
       "1             2  2013-11-15 03:45:04      Poole Matthew   \n",
       "2             3  2013-03-19 23:14:52  Bottrill Mitchell   \n",
       "3             4  2013-05-21 08:09:28    Clausen Nicklas   \n",
       "4             5  2013-01-17 10:14:20          Raw Grace   \n",
       "...         ...                  ...                ...   \n",
       "8818      11996  2013-09-06 06:14:15       Meier Sophia   \n",
       "8819      11997  2013-01-10 18:28:37      Fisher Amelie   \n",
       "8820      11998  2014-04-27 12:45:16        Haynes Jake   \n",
       "8821      11999  2012-05-31 11:55:59       Faber Annett   \n",
       "8822      12000  2014-01-26 08:57:12         Lima Thaís   \n",
       "\n",
       "                           email     creation_source  \\\n",
       "0       AugustCClausen@yahoo.com        GUEST_INVITE   \n",
       "1         MatthewPoole@gustr.com          ORG_INVITE   \n",
       "2     MitchellBottrill@gustr.com          ORG_INVITE   \n",
       "3      NicklasSClausen@yahoo.com        GUEST_INVITE   \n",
       "4             GraceRaw@yahoo.com        GUEST_INVITE   \n",
       "...                          ...                 ...   \n",
       "8818       SophiaMeier@gustr.com          ORG_INVITE   \n",
       "8819      AmelieFisher@gmail.com  SIGNUP_GOOGLE_AUTH   \n",
       "8820         JakeHaynes@cuvox.de        GUEST_INVITE   \n",
       "8821          mhaerzxp@iuxiw.com   PERSONAL_PROJECTS   \n",
       "8822   ThaisMeloLima@hotmail.com              SIGNUP   \n",
       "\n",
       "      last_session_creation_time  opted_in_to_mailing_list  \\\n",
       "0                   1.398139e+09                         1   \n",
       "1                   1.396238e+09                         0   \n",
       "2                   1.363735e+09                         0   \n",
       "3                   1.369210e+09                         0   \n",
       "4                   1.358850e+09                         0   \n",
       "...                          ...                       ...   \n",
       "8818                1.378448e+09                         0   \n",
       "8819                1.358275e+09                         0   \n",
       "8820                1.398603e+09                         1   \n",
       "8821                1.338638e+09                         0   \n",
       "8822                1.390727e+09                         0   \n",
       "\n",
       "      enabled_for_marketing_drip  org_id  invited_by_user_id  visited  \n",
       "0                              0      11             10803.0        1  \n",
       "1                              0       1               316.0       14  \n",
       "2                              0      94              1525.0        1  \n",
       "3                              0       1              5151.0        1  \n",
       "4                              0     193              5240.0        1  \n",
       "...                          ...     ...                 ...      ...  \n",
       "8818                           0      89              8263.0        1  \n",
       "8819                           0     200                 NaN        1  \n",
       "8820                           1      83              8074.0        1  \n",
       "8821                           0       6                 NaN        1  \n",
       "8822                           1       0                 NaN        1  \n",
       "\n",
       "[8823 rows x 11 columns]"
      ]
     },
     "execution_count": 153,
     "metadata": {},
     "output_type": "execute_result"
    }
   ],
   "source": [
    "combined_table"
   ]
  },
  {
   "cell_type": "code",
   "execution_count": 154,
   "metadata": {},
   "outputs": [],
   "source": [
    "filtered_table = combined_table[combined_table['visited']>=3] "
   ]
  },
  {
   "cell_type": "code",
   "execution_count": 155,
   "metadata": {},
   "outputs": [
    {
     "data": {
      "text/html": [
       "<div>\n",
       "<style scoped>\n",
       "    .dataframe tbody tr th:only-of-type {\n",
       "        vertical-align: middle;\n",
       "    }\n",
       "\n",
       "    .dataframe tbody tr th {\n",
       "        vertical-align: top;\n",
       "    }\n",
       "\n",
       "    .dataframe thead th {\n",
       "        text-align: right;\n",
       "    }\n",
       "</style>\n",
       "<table border=\"1\" class=\"dataframe\">\n",
       "  <thead>\n",
       "    <tr style=\"text-align: right;\">\n",
       "      <th></th>\n",
       "      <th>object_id</th>\n",
       "      <th>creation_time</th>\n",
       "      <th>name</th>\n",
       "      <th>email</th>\n",
       "      <th>creation_source</th>\n",
       "      <th>last_session_creation_time</th>\n",
       "      <th>opted_in_to_mailing_list</th>\n",
       "      <th>enabled_for_marketing_drip</th>\n",
       "      <th>org_id</th>\n",
       "      <th>invited_by_user_id</th>\n",
       "      <th>visited</th>\n",
       "    </tr>\n",
       "  </thead>\n",
       "  <tbody>\n",
       "    <tr>\n",
       "      <th>1</th>\n",
       "      <td>2</td>\n",
       "      <td>2013-11-15 03:45:04</td>\n",
       "      <td>Poole Matthew</td>\n",
       "      <td>MatthewPoole@gustr.com</td>\n",
       "      <td>ORG_INVITE</td>\n",
       "      <td>1.396238e+09</td>\n",
       "      <td>0</td>\n",
       "      <td>0</td>\n",
       "      <td>1</td>\n",
       "      <td>316.0</td>\n",
       "      <td>14</td>\n",
       "    </tr>\n",
       "    <tr>\n",
       "      <th>7</th>\n",
       "      <td>10</td>\n",
       "      <td>2013-01-16 22:08:03</td>\n",
       "      <td>Santos Carla</td>\n",
       "      <td>CarlaFerreiraSantos@gustr.com</td>\n",
       "      <td>ORG_INVITE</td>\n",
       "      <td>1.401833e+09</td>\n",
       "      <td>1</td>\n",
       "      <td>1</td>\n",
       "      <td>318</td>\n",
       "      <td>4143.0</td>\n",
       "      <td>284</td>\n",
       "    </tr>\n",
       "    <tr>\n",
       "      <th>13</th>\n",
       "      <td>20</td>\n",
       "      <td>2014-03-06 11:46:38</td>\n",
       "      <td>Helms Mikayla</td>\n",
       "      <td>lqyvjilf@uhzdq.com</td>\n",
       "      <td>SIGNUP</td>\n",
       "      <td>1.401364e+09</td>\n",
       "      <td>0</td>\n",
       "      <td>0</td>\n",
       "      <td>58</td>\n",
       "      <td>NaN</td>\n",
       "      <td>7</td>\n",
       "    </tr>\n",
       "    <tr>\n",
       "      <th>24</th>\n",
       "      <td>33</td>\n",
       "      <td>2014-03-11 06:29:09</td>\n",
       "      <td>Araujo José</td>\n",
       "      <td>JoseMartinsAraujo@cuvox.de</td>\n",
       "      <td>GUEST_INVITE</td>\n",
       "      <td>1.401518e+09</td>\n",
       "      <td>0</td>\n",
       "      <td>0</td>\n",
       "      <td>401</td>\n",
       "      <td>79.0</td>\n",
       "      <td>18</td>\n",
       "    </tr>\n",
       "    <tr>\n",
       "      <th>28</th>\n",
       "      <td>42</td>\n",
       "      <td>2012-11-11 19:05:07</td>\n",
       "      <td>Pinto Giovanna</td>\n",
       "      <td>GiovannaCunhaPinto@cuvox.de</td>\n",
       "      <td>SIGNUP</td>\n",
       "      <td>1.401045e+09</td>\n",
       "      <td>1</td>\n",
       "      <td>0</td>\n",
       "      <td>235</td>\n",
       "      <td>NaN</td>\n",
       "      <td>342</td>\n",
       "    </tr>\n",
       "    <tr>\n",
       "      <th>...</th>\n",
       "      <td>...</td>\n",
       "      <td>...</td>\n",
       "      <td>...</td>\n",
       "      <td>...</td>\n",
       "      <td>...</td>\n",
       "      <td>...</td>\n",
       "      <td>...</td>\n",
       "      <td>...</td>\n",
       "      <td>...</td>\n",
       "      <td>...</td>\n",
       "      <td>...</td>\n",
       "    </tr>\n",
       "    <tr>\n",
       "      <th>8802</th>\n",
       "      <td>11975</td>\n",
       "      <td>2013-03-23 11:10:11</td>\n",
       "      <td>Daecher Jürgen</td>\n",
       "      <td>JurgenDaecher@gustr.com</td>\n",
       "      <td>GUEST_INVITE</td>\n",
       "      <td>1.400757e+09</td>\n",
       "      <td>1</td>\n",
       "      <td>0</td>\n",
       "      <td>31</td>\n",
       "      <td>6410.0</td>\n",
       "      <td>216</td>\n",
       "    </tr>\n",
       "    <tr>\n",
       "      <th>8805</th>\n",
       "      <td>11980</td>\n",
       "      <td>2014-02-02 15:23:18</td>\n",
       "      <td>Gloeckner Franziska</td>\n",
       "      <td>ljnnbqdr@cgbld.com</td>\n",
       "      <td>ORG_INVITE</td>\n",
       "      <td>1.397835e+09</td>\n",
       "      <td>0</td>\n",
       "      <td>0</td>\n",
       "      <td>406</td>\n",
       "      <td>3068.0</td>\n",
       "      <td>8</td>\n",
       "    </tr>\n",
       "    <tr>\n",
       "      <th>8806</th>\n",
       "      <td>11981</td>\n",
       "      <td>2013-03-05 01:53:48</td>\n",
       "      <td>Fry Tyler</td>\n",
       "      <td>TylerFry@gmail.com</td>\n",
       "      <td>GUEST_INVITE</td>\n",
       "      <td>1.364868e+09</td>\n",
       "      <td>0</td>\n",
       "      <td>0</td>\n",
       "      <td>110</td>\n",
       "      <td>5775.0</td>\n",
       "      <td>4</td>\n",
       "    </tr>\n",
       "    <tr>\n",
       "      <th>8812</th>\n",
       "      <td>11988</td>\n",
       "      <td>2014-03-15 11:04:47</td>\n",
       "      <td>Minick John</td>\n",
       "      <td>JohnFMinick@yahoo.com</td>\n",
       "      <td>PERSONAL_PROJECTS</td>\n",
       "      <td>1.401621e+09</td>\n",
       "      <td>0</td>\n",
       "      <td>0</td>\n",
       "      <td>114</td>\n",
       "      <td>NaN</td>\n",
       "      <td>30</td>\n",
       "    </tr>\n",
       "    <tr>\n",
       "      <th>8815</th>\n",
       "      <td>11991</td>\n",
       "      <td>2014-04-20 14:22:45</td>\n",
       "      <td>Vaughn Arthur</td>\n",
       "      <td>ArthurJVaughn@gmail.com</td>\n",
       "      <td>SIGNUP_GOOGLE_AUTH</td>\n",
       "      <td>1.401460e+09</td>\n",
       "      <td>0</td>\n",
       "      <td>0</td>\n",
       "      <td>388</td>\n",
       "      <td>NaN</td>\n",
       "      <td>5</td>\n",
       "    </tr>\n",
       "  </tbody>\n",
       "</table>\n",
       "<p>2248 rows × 11 columns</p>\n",
       "</div>"
      ],
      "text/plain": [
       "      object_id        creation_time                 name  \\\n",
       "1             2  2013-11-15 03:45:04        Poole Matthew   \n",
       "7            10  2013-01-16 22:08:03         Santos Carla   \n",
       "13           20  2014-03-06 11:46:38        Helms Mikayla   \n",
       "24           33  2014-03-11 06:29:09          Araujo José   \n",
       "28           42  2012-11-11 19:05:07       Pinto Giovanna   \n",
       "...         ...                  ...                  ...   \n",
       "8802      11975  2013-03-23 11:10:11       Daecher Jürgen   \n",
       "8805      11980  2014-02-02 15:23:18  Gloeckner Franziska   \n",
       "8806      11981  2013-03-05 01:53:48            Fry Tyler   \n",
       "8812      11988  2014-03-15 11:04:47          Minick John   \n",
       "8815      11991  2014-04-20 14:22:45        Vaughn Arthur   \n",
       "\n",
       "                              email     creation_source  \\\n",
       "1            MatthewPoole@gustr.com          ORG_INVITE   \n",
       "7     CarlaFerreiraSantos@gustr.com          ORG_INVITE   \n",
       "13               lqyvjilf@uhzdq.com              SIGNUP   \n",
       "24       JoseMartinsAraujo@cuvox.de        GUEST_INVITE   \n",
       "28      GiovannaCunhaPinto@cuvox.de              SIGNUP   \n",
       "...                             ...                 ...   \n",
       "8802        JurgenDaecher@gustr.com        GUEST_INVITE   \n",
       "8805             ljnnbqdr@cgbld.com          ORG_INVITE   \n",
       "8806             TylerFry@gmail.com        GUEST_INVITE   \n",
       "8812          JohnFMinick@yahoo.com   PERSONAL_PROJECTS   \n",
       "8815        ArthurJVaughn@gmail.com  SIGNUP_GOOGLE_AUTH   \n",
       "\n",
       "      last_session_creation_time  opted_in_to_mailing_list  \\\n",
       "1                   1.396238e+09                         0   \n",
       "7                   1.401833e+09                         1   \n",
       "13                  1.401364e+09                         0   \n",
       "24                  1.401518e+09                         0   \n",
       "28                  1.401045e+09                         1   \n",
       "...                          ...                       ...   \n",
       "8802                1.400757e+09                         1   \n",
       "8805                1.397835e+09                         0   \n",
       "8806                1.364868e+09                         0   \n",
       "8812                1.401621e+09                         0   \n",
       "8815                1.401460e+09                         0   \n",
       "\n",
       "      enabled_for_marketing_drip  org_id  invited_by_user_id  visited  \n",
       "1                              0       1               316.0       14  \n",
       "7                              1     318              4143.0      284  \n",
       "13                             0      58                 NaN        7  \n",
       "24                             0     401                79.0       18  \n",
       "28                             0     235                 NaN      342  \n",
       "...                          ...     ...                 ...      ...  \n",
       "8802                           0      31              6410.0      216  \n",
       "8805                           0     406              3068.0        8  \n",
       "8806                           0     110              5775.0        4  \n",
       "8812                           0     114                 NaN       30  \n",
       "8815                           0     388                 NaN        5  \n",
       "\n",
       "[2248 rows x 11 columns]"
      ]
     },
     "execution_count": 155,
     "metadata": {},
     "output_type": "execute_result"
    }
   ],
   "source": [
    "filtered_table"
   ]
  },
  {
   "cell_type": "code",
   "execution_count": 159,
   "metadata": {},
   "outputs": [
    {
     "name": "stderr",
     "output_type": "stream",
     "text": [
      "/Users/davidgodinez/anaconda3/lib/python3.7/site-packages/ipykernel_launcher.py:1: SettingWithCopyWarning: \n",
      "A value is trying to be set on a copy of a slice from a DataFrame.\n",
      "Try using .loc[row_indexer,col_indexer] = value instead\n",
      "\n",
      "See the caveats in the documentation: https://pandas.pydata.org/pandas-docs/stable/user_guide/indexing.html#returning-a-view-versus-a-copy\n",
      "  \"\"\"Entry point for launching an IPython kernel.\n"
     ]
    }
   ],
   "source": [
    "filtered_table['last_session_creation_time']= pd.to_datetime(filtered_table['last_session_creation_time'], unit='s')"
   ]
  },
  {
   "cell_type": "code",
   "execution_count": 163,
   "metadata": {},
   "outputs": [
    {
     "name": "stderr",
     "output_type": "stream",
     "text": [
      "/Users/davidgodinez/anaconda3/lib/python3.7/site-packages/ipykernel_launcher.py:1: SettingWithCopyWarning: \n",
      "A value is trying to be set on a copy of a slice from a DataFrame.\n",
      "Try using .loc[row_indexer,col_indexer] = value instead\n",
      "\n",
      "See the caveats in the documentation: https://pandas.pydata.org/pandas-docs/stable/user_guide/indexing.html#returning-a-view-versus-a-copy\n",
      "  \"\"\"Entry point for launching an IPython kernel.\n"
     ]
    }
   ],
   "source": [
    "filtered_table['creation_time']= pd.to_datetime(filtered_table['creation_time'])"
   ]
  },
  {
   "cell_type": "code",
   "execution_count": 165,
   "metadata": {},
   "outputs": [
    {
     "name": "stdout",
     "output_type": "stream",
     "text": [
      "<class 'pandas.core.frame.DataFrame'>\n",
      "Int64Index: 2248 entries, 1 to 8815\n",
      "Data columns (total 11 columns):\n",
      " #   Column                      Non-Null Count  Dtype         \n",
      "---  ------                      --------------  -----         \n",
      " 0   object_id                   2248 non-null   int64         \n",
      " 1   creation_time               2248 non-null   datetime64[ns]\n",
      " 2   name                        2248 non-null   object        \n",
      " 3   email                       2248 non-null   object        \n",
      " 4   creation_source             2248 non-null   object        \n",
      " 5   last_session_creation_time  2248 non-null   datetime64[ns]\n",
      " 6   opted_in_to_mailing_list    2248 non-null   int64         \n",
      " 7   enabled_for_marketing_drip  2248 non-null   int64         \n",
      " 8   org_id                      2248 non-null   int64         \n",
      " 9   invited_by_user_id          1285 non-null   float64       \n",
      " 10  visited                     2248 non-null   int64         \n",
      "dtypes: datetime64[ns](2), float64(1), int64(5), object(3)\n",
      "memory usage: 210.8+ KB\n"
     ]
    }
   ],
   "source": [
    "filtered_table.info()"
   ]
  },
  {
   "cell_type": "code",
   "execution_count": 166,
   "metadata": {},
   "outputs": [
    {
     "data": {
      "text/html": [
       "<div>\n",
       "<style scoped>\n",
       "    .dataframe tbody tr th:only-of-type {\n",
       "        vertical-align: middle;\n",
       "    }\n",
       "\n",
       "    .dataframe tbody tr th {\n",
       "        vertical-align: top;\n",
       "    }\n",
       "\n",
       "    .dataframe thead th {\n",
       "        text-align: right;\n",
       "    }\n",
       "</style>\n",
       "<table border=\"1\" class=\"dataframe\">\n",
       "  <thead>\n",
       "    <tr style=\"text-align: right;\">\n",
       "      <th></th>\n",
       "      <th>object_id</th>\n",
       "      <th>creation_time</th>\n",
       "      <th>name</th>\n",
       "      <th>email</th>\n",
       "      <th>creation_source</th>\n",
       "      <th>last_session_creation_time</th>\n",
       "      <th>opted_in_to_mailing_list</th>\n",
       "      <th>enabled_for_marketing_drip</th>\n",
       "      <th>org_id</th>\n",
       "      <th>invited_by_user_id</th>\n",
       "      <th>visited</th>\n",
       "    </tr>\n",
       "  </thead>\n",
       "  <tbody>\n",
       "    <tr>\n",
       "      <th>1</th>\n",
       "      <td>2</td>\n",
       "      <td>2013-11-15 03:45:04</td>\n",
       "      <td>Poole Matthew</td>\n",
       "      <td>MatthewPoole@gustr.com</td>\n",
       "      <td>ORG_INVITE</td>\n",
       "      <td>2014-03-31 03:45:04</td>\n",
       "      <td>0</td>\n",
       "      <td>0</td>\n",
       "      <td>1</td>\n",
       "      <td>316.0</td>\n",
       "      <td>14</td>\n",
       "    </tr>\n",
       "    <tr>\n",
       "      <th>7</th>\n",
       "      <td>10</td>\n",
       "      <td>2013-01-16 22:08:03</td>\n",
       "      <td>Santos Carla</td>\n",
       "      <td>CarlaFerreiraSantos@gustr.com</td>\n",
       "      <td>ORG_INVITE</td>\n",
       "      <td>2014-06-03 22:08:03</td>\n",
       "      <td>1</td>\n",
       "      <td>1</td>\n",
       "      <td>318</td>\n",
       "      <td>4143.0</td>\n",
       "      <td>284</td>\n",
       "    </tr>\n",
       "    <tr>\n",
       "      <th>13</th>\n",
       "      <td>20</td>\n",
       "      <td>2014-03-06 11:46:38</td>\n",
       "      <td>Helms Mikayla</td>\n",
       "      <td>lqyvjilf@uhzdq.com</td>\n",
       "      <td>SIGNUP</td>\n",
       "      <td>2014-05-29 11:46:38</td>\n",
       "      <td>0</td>\n",
       "      <td>0</td>\n",
       "      <td>58</td>\n",
       "      <td>NaN</td>\n",
       "      <td>7</td>\n",
       "    </tr>\n",
       "    <tr>\n",
       "      <th>24</th>\n",
       "      <td>33</td>\n",
       "      <td>2014-03-11 06:29:09</td>\n",
       "      <td>Araujo José</td>\n",
       "      <td>JoseMartinsAraujo@cuvox.de</td>\n",
       "      <td>GUEST_INVITE</td>\n",
       "      <td>2014-05-31 06:29:09</td>\n",
       "      <td>0</td>\n",
       "      <td>0</td>\n",
       "      <td>401</td>\n",
       "      <td>79.0</td>\n",
       "      <td>18</td>\n",
       "    </tr>\n",
       "    <tr>\n",
       "      <th>28</th>\n",
       "      <td>42</td>\n",
       "      <td>2012-11-11 19:05:07</td>\n",
       "      <td>Pinto Giovanna</td>\n",
       "      <td>GiovannaCunhaPinto@cuvox.de</td>\n",
       "      <td>SIGNUP</td>\n",
       "      <td>2014-05-25 19:05:07</td>\n",
       "      <td>1</td>\n",
       "      <td>0</td>\n",
       "      <td>235</td>\n",
       "      <td>NaN</td>\n",
       "      <td>342</td>\n",
       "    </tr>\n",
       "    <tr>\n",
       "      <th>...</th>\n",
       "      <td>...</td>\n",
       "      <td>...</td>\n",
       "      <td>...</td>\n",
       "      <td>...</td>\n",
       "      <td>...</td>\n",
       "      <td>...</td>\n",
       "      <td>...</td>\n",
       "      <td>...</td>\n",
       "      <td>...</td>\n",
       "      <td>...</td>\n",
       "      <td>...</td>\n",
       "    </tr>\n",
       "    <tr>\n",
       "      <th>8802</th>\n",
       "      <td>11975</td>\n",
       "      <td>2013-03-23 11:10:11</td>\n",
       "      <td>Daecher Jürgen</td>\n",
       "      <td>JurgenDaecher@gustr.com</td>\n",
       "      <td>GUEST_INVITE</td>\n",
       "      <td>2014-05-22 11:10:11</td>\n",
       "      <td>1</td>\n",
       "      <td>0</td>\n",
       "      <td>31</td>\n",
       "      <td>6410.0</td>\n",
       "      <td>216</td>\n",
       "    </tr>\n",
       "    <tr>\n",
       "      <th>8805</th>\n",
       "      <td>11980</td>\n",
       "      <td>2014-02-02 15:23:18</td>\n",
       "      <td>Gloeckner Franziska</td>\n",
       "      <td>ljnnbqdr@cgbld.com</td>\n",
       "      <td>ORG_INVITE</td>\n",
       "      <td>2014-04-18 15:23:18</td>\n",
       "      <td>0</td>\n",
       "      <td>0</td>\n",
       "      <td>406</td>\n",
       "      <td>3068.0</td>\n",
       "      <td>8</td>\n",
       "    </tr>\n",
       "    <tr>\n",
       "      <th>8806</th>\n",
       "      <td>11981</td>\n",
       "      <td>2013-03-05 01:53:48</td>\n",
       "      <td>Fry Tyler</td>\n",
       "      <td>TylerFry@gmail.com</td>\n",
       "      <td>GUEST_INVITE</td>\n",
       "      <td>2013-04-02 01:53:48</td>\n",
       "      <td>0</td>\n",
       "      <td>0</td>\n",
       "      <td>110</td>\n",
       "      <td>5775.0</td>\n",
       "      <td>4</td>\n",
       "    </tr>\n",
       "    <tr>\n",
       "      <th>8812</th>\n",
       "      <td>11988</td>\n",
       "      <td>2014-03-15 11:04:47</td>\n",
       "      <td>Minick John</td>\n",
       "      <td>JohnFMinick@yahoo.com</td>\n",
       "      <td>PERSONAL_PROJECTS</td>\n",
       "      <td>2014-06-01 11:04:47</td>\n",
       "      <td>0</td>\n",
       "      <td>0</td>\n",
       "      <td>114</td>\n",
       "      <td>NaN</td>\n",
       "      <td>30</td>\n",
       "    </tr>\n",
       "    <tr>\n",
       "      <th>8815</th>\n",
       "      <td>11991</td>\n",
       "      <td>2014-04-20 14:22:45</td>\n",
       "      <td>Vaughn Arthur</td>\n",
       "      <td>ArthurJVaughn@gmail.com</td>\n",
       "      <td>SIGNUP_GOOGLE_AUTH</td>\n",
       "      <td>2014-05-30 14:22:45</td>\n",
       "      <td>0</td>\n",
       "      <td>0</td>\n",
       "      <td>388</td>\n",
       "      <td>NaN</td>\n",
       "      <td>5</td>\n",
       "    </tr>\n",
       "  </tbody>\n",
       "</table>\n",
       "<p>2248 rows × 11 columns</p>\n",
       "</div>"
      ],
      "text/plain": [
       "      object_id       creation_time                 name  \\\n",
       "1             2 2013-11-15 03:45:04        Poole Matthew   \n",
       "7            10 2013-01-16 22:08:03         Santos Carla   \n",
       "13           20 2014-03-06 11:46:38        Helms Mikayla   \n",
       "24           33 2014-03-11 06:29:09          Araujo José   \n",
       "28           42 2012-11-11 19:05:07       Pinto Giovanna   \n",
       "...         ...                 ...                  ...   \n",
       "8802      11975 2013-03-23 11:10:11       Daecher Jürgen   \n",
       "8805      11980 2014-02-02 15:23:18  Gloeckner Franziska   \n",
       "8806      11981 2013-03-05 01:53:48            Fry Tyler   \n",
       "8812      11988 2014-03-15 11:04:47          Minick John   \n",
       "8815      11991 2014-04-20 14:22:45        Vaughn Arthur   \n",
       "\n",
       "                              email     creation_source  \\\n",
       "1            MatthewPoole@gustr.com          ORG_INVITE   \n",
       "7     CarlaFerreiraSantos@gustr.com          ORG_INVITE   \n",
       "13               lqyvjilf@uhzdq.com              SIGNUP   \n",
       "24       JoseMartinsAraujo@cuvox.de        GUEST_INVITE   \n",
       "28      GiovannaCunhaPinto@cuvox.de              SIGNUP   \n",
       "...                             ...                 ...   \n",
       "8802        JurgenDaecher@gustr.com        GUEST_INVITE   \n",
       "8805             ljnnbqdr@cgbld.com          ORG_INVITE   \n",
       "8806             TylerFry@gmail.com        GUEST_INVITE   \n",
       "8812          JohnFMinick@yahoo.com   PERSONAL_PROJECTS   \n",
       "8815        ArthurJVaughn@gmail.com  SIGNUP_GOOGLE_AUTH   \n",
       "\n",
       "     last_session_creation_time  opted_in_to_mailing_list  \\\n",
       "1           2014-03-31 03:45:04                         0   \n",
       "7           2014-06-03 22:08:03                         1   \n",
       "13          2014-05-29 11:46:38                         0   \n",
       "24          2014-05-31 06:29:09                         0   \n",
       "28          2014-05-25 19:05:07                         1   \n",
       "...                         ...                       ...   \n",
       "8802        2014-05-22 11:10:11                         1   \n",
       "8805        2014-04-18 15:23:18                         0   \n",
       "8806        2013-04-02 01:53:48                         0   \n",
       "8812        2014-06-01 11:04:47                         0   \n",
       "8815        2014-05-30 14:22:45                         0   \n",
       "\n",
       "      enabled_for_marketing_drip  org_id  invited_by_user_id  visited  \n",
       "1                              0       1               316.0       14  \n",
       "7                              1     318              4143.0      284  \n",
       "13                             0      58                 NaN        7  \n",
       "24                             0     401                79.0       18  \n",
       "28                             0     235                 NaN      342  \n",
       "...                          ...     ...                 ...      ...  \n",
       "8802                           0      31              6410.0      216  \n",
       "8805                           0     406              3068.0        8  \n",
       "8806                           0     110              5775.0        4  \n",
       "8812                           0     114                 NaN       30  \n",
       "8815                           0     388                 NaN        5  \n",
       "\n",
       "[2248 rows x 11 columns]"
      ]
     },
     "execution_count": 166,
     "metadata": {},
     "output_type": "execute_result"
    }
   ],
   "source": [
    "filtered_table"
   ]
  },
  {
   "cell_type": "markdown",
   "metadata": {},
   "source": [
    "Graph insights about here and look at the differences in distributions and just write up report and call it a day dawg "
   ]
  },
  {
   "cell_type": "markdown",
   "metadata": {},
   "source": [
    "# Visualizing the Filtered table"
   ]
  },
  {
   "cell_type": "markdown",
   "metadata": {},
   "source": [
    "## Visualizing the Creation Source"
   ]
  },
  {
   "cell_type": "code",
   "execution_count": 186,
   "metadata": {},
   "outputs": [],
   "source": [
    "filtered_creation_source = filtered_table['creation_source'].value_counts()"
   ]
  },
  {
   "cell_type": "code",
   "execution_count": 190,
   "metadata": {},
   "outputs": [
    {
     "data": {
      "text/plain": [
       "Text(0.5, 1.0, 'Filtered Distribution of Creation Source')"
      ]
     },
     "execution_count": 190,
     "metadata": {},
     "output_type": "execute_result"
    },
    {
     "data": {
      "image/png": "[encoded data removed]",
      "text/plain": [
       "<Figure size 432x288 with 1 Axes>"
      ]
     },
     "metadata": {
      "needs_background": "light"
     },
     "output_type": "display_data"
    }
   ],
   "source": [
    "plt.bar(filtered_creation_source.index,filtered_creation_source)\n",
    "plt.title('D')\n",
    "plt.xticks(rotation=30)\n",
    "plt.ylabel('Frequency')\n",
    "plt.title('Filtered Distribution of Creation Source')"
   ]
  },
  {
   "cell_type": "code",
   "execution_count": 189,
   "metadata": {},
   "outputs": [
    {
     "data": {
      "text/plain": [
       "ORG_INVITE            783\n",
       "GUEST_INVITE          502\n",
       "SIGNUP                418\n",
       "SIGNUP_GOOGLE_AUTH    314\n",
       "PERSONAL_PROJECTS     231\n",
       "Name: creation_source, dtype: int64"
      ]
     },
     "execution_count": 189,
     "metadata": {},
     "output_type": "execute_result"
    }
   ],
   "source": [
    "filtered_creation_source"
   ]
  },
  {
   "cell_type": "markdown",
   "metadata": {},
   "source": [
    "## Visualizing  the Mailing list"
   ]
  },
  {
   "cell_type": "code",
   "execution_count": 196,
   "metadata": {},
   "outputs": [],
   "source": [
    "filtered_mailing_list = filtered_table['opted_in_to_mailing_list'].value_counts()"
   ]
  },
  {
   "cell_type": "code",
   "execution_count": 192,
   "metadata": {},
   "outputs": [
    {
     "data": {
      "text/plain": [
       "0    1670\n",
       "1     578\n",
       "Name: opted_in_to_mailing_list, dtype: int64"
      ]
     },
     "execution_count": 192,
     "metadata": {},
     "output_type": "execute_result"
    }
   ],
   "source": [
    "filtered_mailing_list"
   ]
  },
  {
   "cell_type": "code",
   "execution_count": 201,
   "metadata": {},
   "outputs": [
    {
     "data": {
      "text/plain": [
       "Text(0, 0.5, 'Frequency')"
      ]
     },
     "execution_count": 201,
     "metadata": {},
     "output_type": "execute_result"
    },
    {
     "data": {
      "image/png": "[encoded data removed]",
      "text/plain": [
       "<Figure size 432x288 with 1 Axes>"
      ]
     },
     "metadata": {
      "needs_background": "light"
     },
     "output_type": "display_data"
    }
   ],
   "source": [
    "plt.bar(['No','Yes'],filtered_mailing_list)\n",
    "plt.title('Graph showing Filtered Users who opted into mailing list')\n",
    "plt.ylabel('Frequency')"
   ]
  },
  {
   "cell_type": "markdown",
   "metadata": {},
   "source": [
    "## Visualizing The Members in each organization "
   ]
  },
  {
   "cell_type": "code",
   "execution_count": 202,
   "metadata": {},
   "outputs": [],
   "source": [
    "filtered_org_id = filtered_table['org_id'].value_counts()"
   ]
  },
  {
   "cell_type": "code",
   "execution_count": 203,
   "metadata": {},
   "outputs": [
    {
     "data": {
      "text/plain": [
       "4      23\n",
       "9      22\n",
       "0      21\n",
       "7      21\n",
       "1      20\n",
       "       ..\n",
       "346     1\n",
       "344     1\n",
       "276     1\n",
       "294     1\n",
       "410     1\n",
       "Name: org_id, Length: 412, dtype: int64"
      ]
     },
     "execution_count": 203,
     "metadata": {},
     "output_type": "execute_result"
    }
   ],
   "source": [
    "filtered_org_id"
   ]
  },
  {
   "cell_type": "code",
   "execution_count": 205,
   "metadata": {},
   "outputs": [
    {
     "data": {
      "text/plain": [
       "Text(0.5, 0, 'Organization Id')"
      ]
     },
     "execution_count": 205,
     "metadata": {},
     "output_type": "execute_result"
    },
    {
     "data": {
      "image/png": "[encoded data removed]",
      "text/plain": [
       "<Figure size 432x288 with 1 Axes>"
      ]
     },
     "metadata": {
      "needs_background": "light"
     },
     "output_type": "display_data"
    }
   ],
   "source": [
    "plt.bar(filtered_org_id.index,filtered_org_id )\n",
    "plt.title('Filtered Distribution of members in each Organiztion ')\n",
    "plt.ylabel('Frequency')\n",
    "plt.xlabel('Organization Id')"
   ]
  },
  {
   "cell_type": "markdown",
   "metadata": {},
   "source": [
    "## Exploring Users visitation frequency"
   ]
  },
  {
   "cell_type": "code",
   "execution_count": 207,
   "metadata": {},
   "outputs": [
    {
     "data": {
      "text/plain": [
       "[<matplotlib.lines.Line2D at 0x7fd75fd564a8>]"
      ]
     },
     "execution_count": 207,
     "metadata": {},
     "output_type": "execute_result"
    },
    {
     "data": {
      "image/png": "[encoded data removed]",
      "text/plain": [
       "<Figure size 432x288 with 1 Axes>"
      ]
     },
     "metadata": {
      "needs_background": "light"
     },
     "output_type": "display_data"
    }
   ],
   "source": [
    "#plt.plot(c.index,c.visited)\n",
    "#plt.title(\"Table showing Frequency of Users' Visitation\")\n",
    "plt.plot(filtered_table.object_id,filtered_table.visited)"
   ]
  },
  {
   "cell_type": "code",
   "execution_count": null,
   "metadata": {},
   "outputs": [],
   "source": []
  }
 ],
 "metadata": {
  "kernelspec": {
   "display_name": "Python 3",
   "language": "python",
   "name": "python3"
  },
  "language_info": {
   "codemirror_mode": {
    "name": "ipython",
    "version": 3
   },
   "file_extension": ".py",
   "mimetype": "text/x-python",
   "name": "python",
   "nbconvert_exporter": "python",
   "pygments_lexer": "ipython3",
   "version": "3.7.3"
  }
 },
 "nbformat": 4,
 "nbformat_minor": 4
}
